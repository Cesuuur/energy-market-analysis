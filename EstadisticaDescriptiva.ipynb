{
 "cells": [
  {
   "cell_type": "markdown",
   "id": "1a53492d",
   "metadata": {},
   "source": [
    "# Estadística Descriptiva"
   ]
  },
  {
   "cell_type": "code",
   "execution_count": 10,
   "id": "b8e411a5",
   "metadata": {},
   "outputs": [],
   "source": [
    "import numpy as np\n",
    "import matplotlib.pyplot as plt\n",
    "import scipy as sp\n",
    "from scipy import stats\n",
    "import pandas as pd\n",
    "import pathlib\n",
    "plt.style.use('fivethirtyeight')\n",
    "import os\n",
    "from utils import plotUtils\n",
    "import datetime as dt\n",
    "import matplotlib.dates as mdates"
   ]
  },
  {
   "cell_type": "code",
   "execution_count": 11,
   "id": "e9fa0a5a",
   "metadata": {},
   "outputs": [],
   "source": [
    "fname_gas = pathlib.Path().resolve() / \"data\" / \"FuturosGasNatural.csv\"\n",
    "fname_petroleo_brent = pathlib.Path().resolve() / \"data\" / \"FuturosPetroleoBrent.csv\"\n",
    "fname_petroleo_wti = pathlib.Path().resolve() / \"data\" / \"FuturosPetroleoWTI.csv\"\n",
    "fname_carbon = pathlib.Path().resolve() / \"data\" / \"FuturosCarbon.csv\"\n",
    "\n",
    "# carbon https://www.investing.com/commodities/coal-cme-futures-historical-data"
   ]
  },
  {
   "cell_type": "code",
   "execution_count": 29,
   "id": "96ea2071",
   "metadata": {},
   "outputs": [],
   "source": [
    "gas = pd.read_csv(fname_gas, decimal=',')\n",
    "petroleo_brent = pd.read_csv(fname_petroleo_brent, decimal=',')\n",
    "petroleo_wti = pd.read_csv(fname_petroleo_wti, decimal=',')\n",
    "carbon = pd.read_csv(fname_carbon, decimal='.')"
   ]
  },
  {
   "cell_type": "code",
   "execution_count": 13,
   "id": "d7cd2252",
   "metadata": {},
   "outputs": [
    {
     "data": {
      "text/html": [
       "<div>\n",
       "<style scoped>\n",
       "    .dataframe tbody tr th:only-of-type {\n",
       "        vertical-align: middle;\n",
       "    }\n",
       "\n",
       "    .dataframe tbody tr th {\n",
       "        vertical-align: top;\n",
       "    }\n",
       "\n",
       "    .dataframe thead th {\n",
       "        text-align: right;\n",
       "    }\n",
       "</style>\n",
       "<table border=\"1\" class=\"dataframe\">\n",
       "  <thead>\n",
       "    <tr style=\"text-align: right;\">\n",
       "      <th></th>\n",
       "      <th>Fecha</th>\n",
       "      <th>Último</th>\n",
       "      <th>Apertura</th>\n",
       "      <th>Máximo</th>\n",
       "      <th>Mínimo</th>\n",
       "      <th>Vol.</th>\n",
       "      <th>% var.</th>\n",
       "    </tr>\n",
       "  </thead>\n",
       "  <tbody>\n",
       "    <tr>\n",
       "      <th>0</th>\n",
       "      <td>19.05.2022</td>\n",
       "      <td>8.105</td>\n",
       "      <td>8.135</td>\n",
       "      <td>8.499</td>\n",
       "      <td>7.909</td>\n",
       "      <td>-</td>\n",
       "      <td>-3,14%</td>\n",
       "    </tr>\n",
       "    <tr>\n",
       "      <th>1</th>\n",
       "      <td>18.05.2022</td>\n",
       "      <td>8.368</td>\n",
       "      <td>8.318</td>\n",
       "      <td>8.548</td>\n",
       "      <td>8.160</td>\n",
       "      <td>80,72K</td>\n",
       "      <td>0,77%</td>\n",
       "    </tr>\n",
       "    <tr>\n",
       "      <th>2</th>\n",
       "      <td>17.05.2022</td>\n",
       "      <td>8.304</td>\n",
       "      <td>8.016</td>\n",
       "      <td>8.372</td>\n",
       "      <td>8.015</td>\n",
       "      <td>76,67K</td>\n",
       "      <td>4,37%</td>\n",
       "    </tr>\n",
       "    <tr>\n",
       "      <th>3</th>\n",
       "      <td>16.05.2022</td>\n",
       "      <td>7.956</td>\n",
       "      <td>7.700</td>\n",
       "      <td>8.183</td>\n",
       "      <td>7.663</td>\n",
       "      <td>93,52K</td>\n",
       "      <td>3,82%</td>\n",
       "    </tr>\n",
       "    <tr>\n",
       "      <th>4</th>\n",
       "      <td>13.05.2022</td>\n",
       "      <td>7.663</td>\n",
       "      <td>7.673</td>\n",
       "      <td>7.919</td>\n",
       "      <td>7.515</td>\n",
       "      <td>85,04K</td>\n",
       "      <td>-0,98%</td>\n",
       "    </tr>\n",
       "    <tr>\n",
       "      <th>...</th>\n",
       "      <td>...</td>\n",
       "      <td>...</td>\n",
       "      <td>...</td>\n",
       "      <td>...</td>\n",
       "      <td>...</td>\n",
       "      <td>...</td>\n",
       "      <td>...</td>\n",
       "    </tr>\n",
       "    <tr>\n",
       "      <th>3717</th>\n",
       "      <td>08.01.2008</td>\n",
       "      <td>7.967</td>\n",
       "      <td>7.909</td>\n",
       "      <td>8.000</td>\n",
       "      <td>7.880</td>\n",
       "      <td>53,78K</td>\n",
       "      <td>1,12%</td>\n",
       "    </tr>\n",
       "    <tr>\n",
       "      <th>3718</th>\n",
       "      <td>07.01.2008</td>\n",
       "      <td>7.879</td>\n",
       "      <td>7.803</td>\n",
       "      <td>7.940</td>\n",
       "      <td>7.701</td>\n",
       "      <td>56,68K</td>\n",
       "      <td>0,48%</td>\n",
       "    </tr>\n",
       "    <tr>\n",
       "      <th>3719</th>\n",
       "      <td>04.01.2008</td>\n",
       "      <td>7.841</td>\n",
       "      <td>7.652</td>\n",
       "      <td>7.859</td>\n",
       "      <td>7.500</td>\n",
       "      <td>61,50K</td>\n",
       "      <td>2,18%</td>\n",
       "    </tr>\n",
       "    <tr>\n",
       "      <th>3720</th>\n",
       "      <td>03.01.2008</td>\n",
       "      <td>7.674</td>\n",
       "      <td>7.873</td>\n",
       "      <td>7.980</td>\n",
       "      <td>7.610</td>\n",
       "      <td>72,74K</td>\n",
       "      <td>-2,24%</td>\n",
       "    </tr>\n",
       "    <tr>\n",
       "      <th>3721</th>\n",
       "      <td>02.01.2008</td>\n",
       "      <td>7.850</td>\n",
       "      <td>7.572</td>\n",
       "      <td>7.875</td>\n",
       "      <td>7.564</td>\n",
       "      <td>68,55K</td>\n",
       "      <td>4,90%</td>\n",
       "    </tr>\n",
       "  </tbody>\n",
       "</table>\n",
       "<p>3722 rows × 7 columns</p>\n",
       "</div>"
      ],
      "text/plain": [
       "           Fecha  Último  Apertura  Máximo  Mínimo    Vol.  % var.\n",
       "0     19.05.2022   8.105     8.135   8.499   7.909       -  -3,14%\n",
       "1     18.05.2022   8.368     8.318   8.548   8.160  80,72K   0,77%\n",
       "2     17.05.2022   8.304     8.016   8.372   8.015  76,67K   4,37%\n",
       "3     16.05.2022   7.956     7.700   8.183   7.663  93,52K   3,82%\n",
       "4     13.05.2022   7.663     7.673   7.919   7.515  85,04K  -0,98%\n",
       "...          ...     ...       ...     ...     ...     ...     ...\n",
       "3717  08.01.2008   7.967     7.909   8.000   7.880  53,78K   1,12%\n",
       "3718  07.01.2008   7.879     7.803   7.940   7.701  56,68K   0,48%\n",
       "3719  04.01.2008   7.841     7.652   7.859   7.500  61,50K   2,18%\n",
       "3720  03.01.2008   7.674     7.873   7.980   7.610  72,74K  -2,24%\n",
       "3721  02.01.2008   7.850     7.572   7.875   7.564  68,55K   4,90%\n",
       "\n",
       "[3722 rows x 7 columns]"
      ]
     },
     "execution_count": 13,
     "metadata": {},
     "output_type": "execute_result"
    }
   ],
   "source": [
    "gas"
   ]
  },
  {
   "cell_type": "code",
   "execution_count": 14,
   "id": "4de87078",
   "metadata": {},
   "outputs": [
    {
     "data": {
      "text/html": [
       "<div>\n",
       "<style scoped>\n",
       "    .dataframe tbody tr th:only-of-type {\n",
       "        vertical-align: middle;\n",
       "    }\n",
       "\n",
       "    .dataframe tbody tr th {\n",
       "        vertical-align: top;\n",
       "    }\n",
       "\n",
       "    .dataframe thead th {\n",
       "        text-align: right;\n",
       "    }\n",
       "</style>\n",
       "<table border=\"1\" class=\"dataframe\">\n",
       "  <thead>\n",
       "    <tr style=\"text-align: right;\">\n",
       "      <th></th>\n",
       "      <th>Fecha</th>\n",
       "      <th>Último</th>\n",
       "      <th>Apertura</th>\n",
       "      <th>Máximo</th>\n",
       "      <th>Mínimo</th>\n",
       "      <th>Vol.</th>\n",
       "      <th>% var.</th>\n",
       "    </tr>\n",
       "  </thead>\n",
       "  <tbody>\n",
       "    <tr>\n",
       "      <th>0</th>\n",
       "      <td>19.05.2022</td>\n",
       "      <td>111.30</td>\n",
       "      <td>108.10</td>\n",
       "      <td>112.30</td>\n",
       "      <td>105.71</td>\n",
       "      <td>270,76K</td>\n",
       "      <td>1,88%</td>\n",
       "    </tr>\n",
       "    <tr>\n",
       "      <th>1</th>\n",
       "      <td>18.05.2022</td>\n",
       "      <td>109.25</td>\n",
       "      <td>112.90</td>\n",
       "      <td>114.14</td>\n",
       "      <td>108.39</td>\n",
       "      <td>244,17K</td>\n",
       "      <td>-3,17%</td>\n",
       "    </tr>\n",
       "    <tr>\n",
       "      <th>2</th>\n",
       "      <td>17.05.2022</td>\n",
       "      <td>112.83</td>\n",
       "      <td>114.26</td>\n",
       "      <td>115.68</td>\n",
       "      <td>111.10</td>\n",
       "      <td>275,24K</td>\n",
       "      <td>-1,05%</td>\n",
       "    </tr>\n",
       "    <tr>\n",
       "      <th>3</th>\n",
       "      <td>16.05.2022</td>\n",
       "      <td>114.03</td>\n",
       "      <td>112.40</td>\n",
       "      <td>114.77</td>\n",
       "      <td>109.01</td>\n",
       "      <td>215,80K</td>\n",
       "      <td>1,44%</td>\n",
       "    </tr>\n",
       "    <tr>\n",
       "      <th>4</th>\n",
       "      <td>15.05.2022</td>\n",
       "      <td>112.41</td>\n",
       "      <td>111.80</td>\n",
       "      <td>112.49</td>\n",
       "      <td>111.52</td>\n",
       "      <td>4,38K</td>\n",
       "      <td>1,07%</td>\n",
       "    </tr>\n",
       "    <tr>\n",
       "      <th>...</th>\n",
       "      <td>...</td>\n",
       "      <td>...</td>\n",
       "      <td>...</td>\n",
       "      <td>...</td>\n",
       "      <td>...</td>\n",
       "      <td>...</td>\n",
       "      <td>...</td>\n",
       "    </tr>\n",
       "    <tr>\n",
       "      <th>3725</th>\n",
       "      <td>08.01.2008</td>\n",
       "      <td>95.54</td>\n",
       "      <td>94.77</td>\n",
       "      <td>96.69</td>\n",
       "      <td>94.47</td>\n",
       "      <td>121,23K</td>\n",
       "      <td>1,22%</td>\n",
       "    </tr>\n",
       "    <tr>\n",
       "      <th>3726</th>\n",
       "      <td>07.01.2008</td>\n",
       "      <td>94.39</td>\n",
       "      <td>96.69</td>\n",
       "      <td>97.48</td>\n",
       "      <td>93.72</td>\n",
       "      <td>106,50K</td>\n",
       "      <td>-2,48%</td>\n",
       "    </tr>\n",
       "    <tr>\n",
       "      <th>3727</th>\n",
       "      <td>04.01.2008</td>\n",
       "      <td>96.79</td>\n",
       "      <td>97.77</td>\n",
       "      <td>98.00</td>\n",
       "      <td>96.18</td>\n",
       "      <td>98,47K</td>\n",
       "      <td>-0,83%</td>\n",
       "    </tr>\n",
       "    <tr>\n",
       "      <th>3728</th>\n",
       "      <td>03.01.2008</td>\n",
       "      <td>97.60</td>\n",
       "      <td>97.45</td>\n",
       "      <td>98.50</td>\n",
       "      <td>97.04</td>\n",
       "      <td>84,86K</td>\n",
       "      <td>-0,25%</td>\n",
       "    </tr>\n",
       "    <tr>\n",
       "      <th>3729</th>\n",
       "      <td>02.01.2008</td>\n",
       "      <td>97.84</td>\n",
       "      <td>94.47</td>\n",
       "      <td>98.00</td>\n",
       "      <td>94.15</td>\n",
       "      <td>83,71K</td>\n",
       "      <td>4,25%</td>\n",
       "    </tr>\n",
       "  </tbody>\n",
       "</table>\n",
       "<p>3730 rows × 7 columns</p>\n",
       "</div>"
      ],
      "text/plain": [
       "           Fecha  Último  Apertura  Máximo  Mínimo     Vol.  % var.\n",
       "0     19.05.2022  111.30    108.10  112.30  105.71  270,76K   1,88%\n",
       "1     18.05.2022  109.25    112.90  114.14  108.39  244,17K  -3,17%\n",
       "2     17.05.2022  112.83    114.26  115.68  111.10  275,24K  -1,05%\n",
       "3     16.05.2022  114.03    112.40  114.77  109.01  215,80K   1,44%\n",
       "4     15.05.2022  112.41    111.80  112.49  111.52    4,38K   1,07%\n",
       "...          ...     ...       ...     ...     ...      ...     ...\n",
       "3725  08.01.2008   95.54     94.77   96.69   94.47  121,23K   1,22%\n",
       "3726  07.01.2008   94.39     96.69   97.48   93.72  106,50K  -2,48%\n",
       "3727  04.01.2008   96.79     97.77   98.00   96.18   98,47K  -0,83%\n",
       "3728  03.01.2008   97.60     97.45   98.50   97.04   84,86K  -0,25%\n",
       "3729  02.01.2008   97.84     94.47   98.00   94.15   83,71K   4,25%\n",
       "\n",
       "[3730 rows x 7 columns]"
      ]
     },
     "execution_count": 14,
     "metadata": {},
     "output_type": "execute_result"
    }
   ],
   "source": [
    "petroleo_brent"
   ]
  },
  {
   "cell_type": "code",
   "execution_count": 15,
   "id": "b137292b",
   "metadata": {},
   "outputs": [
    {
     "data": {
      "text/html": [
       "<div>\n",
       "<style scoped>\n",
       "    .dataframe tbody tr th:only-of-type {\n",
       "        vertical-align: middle;\n",
       "    }\n",
       "\n",
       "    .dataframe tbody tr th {\n",
       "        vertical-align: top;\n",
       "    }\n",
       "\n",
       "    .dataframe thead th {\n",
       "        text-align: right;\n",
       "    }\n",
       "</style>\n",
       "<table border=\"1\" class=\"dataframe\">\n",
       "  <thead>\n",
       "    <tr style=\"text-align: right;\">\n",
       "      <th></th>\n",
       "      <th>Fecha</th>\n",
       "      <th>Último</th>\n",
       "      <th>Apertura</th>\n",
       "      <th>Máximo</th>\n",
       "      <th>Mínimo</th>\n",
       "      <th>Vol.</th>\n",
       "      <th>% var.</th>\n",
       "    </tr>\n",
       "  </thead>\n",
       "  <tbody>\n",
       "    <tr>\n",
       "      <th>0</th>\n",
       "      <td>19.05.2022</td>\n",
       "      <td>109.28</td>\n",
       "      <td>105.65</td>\n",
       "      <td>110.14</td>\n",
       "      <td>103.25</td>\n",
       "      <td>-</td>\n",
       "      <td>-0,28%</td>\n",
       "    </tr>\n",
       "    <tr>\n",
       "      <th>1</th>\n",
       "      <td>18.05.2022</td>\n",
       "      <td>109.59</td>\n",
       "      <td>113.66</td>\n",
       "      <td>115.42</td>\n",
       "      <td>108.46</td>\n",
       "      <td>103,67K</td>\n",
       "      <td>-2,50%</td>\n",
       "    </tr>\n",
       "    <tr>\n",
       "      <th>2</th>\n",
       "      <td>17.05.2022</td>\n",
       "      <td>112.40</td>\n",
       "      <td>113.87</td>\n",
       "      <td>115.56</td>\n",
       "      <td>111.75</td>\n",
       "      <td>252,63K</td>\n",
       "      <td>-1,58%</td>\n",
       "    </tr>\n",
       "    <tr>\n",
       "      <th>3</th>\n",
       "      <td>16.05.2022</td>\n",
       "      <td>114.20</td>\n",
       "      <td>110.98</td>\n",
       "      <td>114.90</td>\n",
       "      <td>108.11</td>\n",
       "      <td>289,13K</td>\n",
       "      <td>3,36%</td>\n",
       "    </tr>\n",
       "    <tr>\n",
       "      <th>4</th>\n",
       "      <td>13.05.2022</td>\n",
       "      <td>110.49</td>\n",
       "      <td>106.65</td>\n",
       "      <td>110.64</td>\n",
       "      <td>106.29</td>\n",
       "      <td>240,99K</td>\n",
       "      <td>4,11%</td>\n",
       "    </tr>\n",
       "    <tr>\n",
       "      <th>...</th>\n",
       "      <td>...</td>\n",
       "      <td>...</td>\n",
       "      <td>...</td>\n",
       "      <td>...</td>\n",
       "      <td>...</td>\n",
       "      <td>...</td>\n",
       "      <td>...</td>\n",
       "    </tr>\n",
       "    <tr>\n",
       "      <th>3718</th>\n",
       "      <td>08.01.2008</td>\n",
       "      <td>96.33</td>\n",
       "      <td>95.35</td>\n",
       "      <td>97.54</td>\n",
       "      <td>95.26</td>\n",
       "      <td>287,52K</td>\n",
       "      <td>1,30%</td>\n",
       "    </tr>\n",
       "    <tr>\n",
       "      <th>3719</th>\n",
       "      <td>07.01.2008</td>\n",
       "      <td>95.09</td>\n",
       "      <td>97.79</td>\n",
       "      <td>98.40</td>\n",
       "      <td>94.47</td>\n",
       "      <td>258,89K</td>\n",
       "      <td>-2,88%</td>\n",
       "    </tr>\n",
       "    <tr>\n",
       "      <th>3720</th>\n",
       "      <td>04.01.2008</td>\n",
       "      <td>97.91</td>\n",
       "      <td>99.17</td>\n",
       "      <td>99.41</td>\n",
       "      <td>97.10</td>\n",
       "      <td>231,79K</td>\n",
       "      <td>-1,28%</td>\n",
       "    </tr>\n",
       "    <tr>\n",
       "      <th>3721</th>\n",
       "      <td>03.01.2008</td>\n",
       "      <td>99.18</td>\n",
       "      <td>99.23</td>\n",
       "      <td>100.09</td>\n",
       "      <td>98.45</td>\n",
       "      <td>241,27K</td>\n",
       "      <td>-0,44%</td>\n",
       "    </tr>\n",
       "    <tr>\n",
       "      <th>3722</th>\n",
       "      <td>02.01.2008</td>\n",
       "      <td>99.62</td>\n",
       "      <td>96.05</td>\n",
       "      <td>100.00</td>\n",
       "      <td>96.05</td>\n",
       "      <td>227,10K</td>\n",
       "      <td>3,79%</td>\n",
       "    </tr>\n",
       "  </tbody>\n",
       "</table>\n",
       "<p>3723 rows × 7 columns</p>\n",
       "</div>"
      ],
      "text/plain": [
       "           Fecha  Último  Apertura  Máximo  Mínimo     Vol.  % var.\n",
       "0     19.05.2022  109.28    105.65  110.14  103.25        -  -0,28%\n",
       "1     18.05.2022  109.59    113.66  115.42  108.46  103,67K  -2,50%\n",
       "2     17.05.2022  112.40    113.87  115.56  111.75  252,63K  -1,58%\n",
       "3     16.05.2022  114.20    110.98  114.90  108.11  289,13K   3,36%\n",
       "4     13.05.2022  110.49    106.65  110.64  106.29  240,99K   4,11%\n",
       "...          ...     ...       ...     ...     ...      ...     ...\n",
       "3718  08.01.2008   96.33     95.35   97.54   95.26  287,52K   1,30%\n",
       "3719  07.01.2008   95.09     97.79   98.40   94.47  258,89K  -2,88%\n",
       "3720  04.01.2008   97.91     99.17   99.41   97.10  231,79K  -1,28%\n",
       "3721  03.01.2008   99.18     99.23  100.09   98.45  241,27K  -0,44%\n",
       "3722  02.01.2008   99.62     96.05  100.00   96.05  227,10K   3,79%\n",
       "\n",
       "[3723 rows x 7 columns]"
      ]
     },
     "execution_count": 15,
     "metadata": {},
     "output_type": "execute_result"
    }
   ],
   "source": [
    "petroleo_wti"
   ]
  },
  {
   "cell_type": "code",
   "execution_count": 30,
   "id": "c9653a35",
   "metadata": {},
   "outputs": [
    {
     "data": {
      "text/html": [
       "<div>\n",
       "<style scoped>\n",
       "    .dataframe tbody tr th:only-of-type {\n",
       "        vertical-align: middle;\n",
       "    }\n",
       "\n",
       "    .dataframe tbody tr th {\n",
       "        vertical-align: top;\n",
       "    }\n",
       "\n",
       "    .dataframe thead th {\n",
       "        text-align: right;\n",
       "    }\n",
       "</style>\n",
       "<table border=\"1\" class=\"dataframe\">\n",
       "  <thead>\n",
       "    <tr style=\"text-align: right;\">\n",
       "      <th></th>\n",
       "      <th>Date</th>\n",
       "      <th>Price</th>\n",
       "      <th>Open</th>\n",
       "      <th>High</th>\n",
       "      <th>Low</th>\n",
       "      <th>Vol.</th>\n",
       "      <th>Change %</th>\n",
       "    </tr>\n",
       "  </thead>\n",
       "  <tbody>\n",
       "    <tr>\n",
       "      <th>0</th>\n",
       "      <td>Mar 27, 2020</td>\n",
       "      <td>34.05</td>\n",
       "      <td>34.05</td>\n",
       "      <td>34.05</td>\n",
       "      <td>34.05</td>\n",
       "      <td>-</td>\n",
       "      <td>0.00%</td>\n",
       "    </tr>\n",
       "    <tr>\n",
       "      <th>1</th>\n",
       "      <td>Mar 26, 2020</td>\n",
       "      <td>34.05</td>\n",
       "      <td>34.05</td>\n",
       "      <td>34.05</td>\n",
       "      <td>34.05</td>\n",
       "      <td>-</td>\n",
       "      <td>0.00%</td>\n",
       "    </tr>\n",
       "    <tr>\n",
       "      <th>2</th>\n",
       "      <td>Mar 25, 2020</td>\n",
       "      <td>34.05</td>\n",
       "      <td>34.05</td>\n",
       "      <td>34.05</td>\n",
       "      <td>34.05</td>\n",
       "      <td>-</td>\n",
       "      <td>0.00%</td>\n",
       "    </tr>\n",
       "    <tr>\n",
       "      <th>3</th>\n",
       "      <td>Mar 24, 2020</td>\n",
       "      <td>34.05</td>\n",
       "      <td>34.05</td>\n",
       "      <td>34.05</td>\n",
       "      <td>34.05</td>\n",
       "      <td>-</td>\n",
       "      <td>0.00%</td>\n",
       "    </tr>\n",
       "    <tr>\n",
       "      <th>4</th>\n",
       "      <td>Mar 23, 2020</td>\n",
       "      <td>34.05</td>\n",
       "      <td>34.05</td>\n",
       "      <td>34.05</td>\n",
       "      <td>34.05</td>\n",
       "      <td>-</td>\n",
       "      <td>0.00%</td>\n",
       "    </tr>\n",
       "    <tr>\n",
       "      <th>5</th>\n",
       "      <td>Mar 20, 2020</td>\n",
       "      <td>34.05</td>\n",
       "      <td>34.05</td>\n",
       "      <td>34.05</td>\n",
       "      <td>34.05</td>\n",
       "      <td>-</td>\n",
       "      <td>0.00%</td>\n",
       "    </tr>\n",
       "    <tr>\n",
       "      <th>6</th>\n",
       "      <td>Mar 19, 2020</td>\n",
       "      <td>34.05</td>\n",
       "      <td>34.05</td>\n",
       "      <td>34.05</td>\n",
       "      <td>34.05</td>\n",
       "      <td>-</td>\n",
       "      <td>0.00%</td>\n",
       "    </tr>\n",
       "    <tr>\n",
       "      <th>7</th>\n",
       "      <td>Mar 18, 2020</td>\n",
       "      <td>34.05</td>\n",
       "      <td>34.05</td>\n",
       "      <td>34.05</td>\n",
       "      <td>34.05</td>\n",
       "      <td>-</td>\n",
       "      <td>0.00%</td>\n",
       "    </tr>\n",
       "    <tr>\n",
       "      <th>8</th>\n",
       "      <td>Mar 17, 2020</td>\n",
       "      <td>34.05</td>\n",
       "      <td>34.05</td>\n",
       "      <td>34.05</td>\n",
       "      <td>34.05</td>\n",
       "      <td>-</td>\n",
       "      <td>0.00%</td>\n",
       "    </tr>\n",
       "    <tr>\n",
       "      <th>9</th>\n",
       "      <td>Mar 16, 2020</td>\n",
       "      <td>34.05</td>\n",
       "      <td>34.05</td>\n",
       "      <td>34.05</td>\n",
       "      <td>34.05</td>\n",
       "      <td>-</td>\n",
       "      <td>-5.55%</td>\n",
       "    </tr>\n",
       "    <tr>\n",
       "      <th>10</th>\n",
       "      <td>Mar 13, 2020</td>\n",
       "      <td>36.05</td>\n",
       "      <td>36.05</td>\n",
       "      <td>36.05</td>\n",
       "      <td>36.05</td>\n",
       "      <td>-</td>\n",
       "      <td>0.00%</td>\n",
       "    </tr>\n",
       "    <tr>\n",
       "      <th>11</th>\n",
       "      <td>Mar 12, 2020</td>\n",
       "      <td>36.05</td>\n",
       "      <td>36.05</td>\n",
       "      <td>36.05</td>\n",
       "      <td>36.05</td>\n",
       "      <td>-</td>\n",
       "      <td>0.00%</td>\n",
       "    </tr>\n",
       "    <tr>\n",
       "      <th>12</th>\n",
       "      <td>Mar 11, 2020</td>\n",
       "      <td>36.05</td>\n",
       "      <td>36.05</td>\n",
       "      <td>36.05</td>\n",
       "      <td>36.05</td>\n",
       "      <td>-</td>\n",
       "      <td>-2.70%</td>\n",
       "    </tr>\n",
       "    <tr>\n",
       "      <th>13</th>\n",
       "      <td>Mar 10, 2020</td>\n",
       "      <td>37.05</td>\n",
       "      <td>37.05</td>\n",
       "      <td>37.05</td>\n",
       "      <td>37.05</td>\n",
       "      <td>-</td>\n",
       "      <td>0.00%</td>\n",
       "    </tr>\n",
       "    <tr>\n",
       "      <th>14</th>\n",
       "      <td>Mar 09, 2020</td>\n",
       "      <td>37.05</td>\n",
       "      <td>37.05</td>\n",
       "      <td>37.05</td>\n",
       "      <td>37.05</td>\n",
       "      <td>-</td>\n",
       "      <td>-10.83%</td>\n",
       "    </tr>\n",
       "    <tr>\n",
       "      <th>15</th>\n",
       "      <td>Mar 06, 2020</td>\n",
       "      <td>41.55</td>\n",
       "      <td>41.55</td>\n",
       "      <td>41.55</td>\n",
       "      <td>41.55</td>\n",
       "      <td>-</td>\n",
       "      <td>-5.68%</td>\n",
       "    </tr>\n",
       "    <tr>\n",
       "      <th>16</th>\n",
       "      <td>Mar 05, 2020</td>\n",
       "      <td>44.05</td>\n",
       "      <td>44.05</td>\n",
       "      <td>44.05</td>\n",
       "      <td>44.05</td>\n",
       "      <td>-</td>\n",
       "      <td>-2.22%</td>\n",
       "    </tr>\n",
       "    <tr>\n",
       "      <th>17</th>\n",
       "      <td>Mar 04, 2020</td>\n",
       "      <td>45.05</td>\n",
       "      <td>45.05</td>\n",
       "      <td>45.05</td>\n",
       "      <td>45.05</td>\n",
       "      <td>-</td>\n",
       "      <td>0.00%</td>\n",
       "    </tr>\n",
       "    <tr>\n",
       "      <th>18</th>\n",
       "      <td>Mar 03, 2020</td>\n",
       "      <td>45.05</td>\n",
       "      <td>45.05</td>\n",
       "      <td>45.05</td>\n",
       "      <td>45.05</td>\n",
       "      <td>-</td>\n",
       "      <td>0.00%</td>\n",
       "    </tr>\n",
       "    <tr>\n",
       "      <th>19</th>\n",
       "      <td>Mar 02, 2020</td>\n",
       "      <td>45.05</td>\n",
       "      <td>45.05</td>\n",
       "      <td>45.05</td>\n",
       "      <td>45.05</td>\n",
       "      <td>-</td>\n",
       "      <td>0.00%</td>\n",
       "    </tr>\n",
       "    <tr>\n",
       "      <th>20</th>\n",
       "      <td>Feb 28, 2020</td>\n",
       "      <td>45.05</td>\n",
       "      <td>45.05</td>\n",
       "      <td>45.05</td>\n",
       "      <td>45.05</td>\n",
       "      <td>-</td>\n",
       "      <td>0.00%</td>\n",
       "    </tr>\n",
       "    <tr>\n",
       "      <th>21</th>\n",
       "      <td>Feb 27, 2020</td>\n",
       "      <td>45.05</td>\n",
       "      <td>45.05</td>\n",
       "      <td>45.05</td>\n",
       "      <td>45.05</td>\n",
       "      <td>-</td>\n",
       "      <td>0.00%</td>\n",
       "    </tr>\n",
       "    <tr>\n",
       "      <th>22</th>\n",
       "      <td>Feb 26, 2020</td>\n",
       "      <td>45.05</td>\n",
       "      <td>45.05</td>\n",
       "      <td>45.05</td>\n",
       "      <td>45.05</td>\n",
       "      <td>-</td>\n",
       "      <td>2.27%</td>\n",
       "    </tr>\n",
       "    <tr>\n",
       "      <th>23</th>\n",
       "      <td>Feb 25, 2020</td>\n",
       "      <td>44.05</td>\n",
       "      <td>44.05</td>\n",
       "      <td>44.05</td>\n",
       "      <td>44.05</td>\n",
       "      <td>-</td>\n",
       "      <td>0.00%</td>\n",
       "    </tr>\n",
       "    <tr>\n",
       "      <th>24</th>\n",
       "      <td>Feb 24, 2020</td>\n",
       "      <td>44.05</td>\n",
       "      <td>44.05</td>\n",
       "      <td>44.05</td>\n",
       "      <td>44.05</td>\n",
       "      <td>-</td>\n",
       "      <td>0.00%</td>\n",
       "    </tr>\n",
       "    <tr>\n",
       "      <th>25</th>\n",
       "      <td>Feb 21, 2020</td>\n",
       "      <td>44.05</td>\n",
       "      <td>44.05</td>\n",
       "      <td>44.05</td>\n",
       "      <td>44.05</td>\n",
       "      <td>-</td>\n",
       "      <td>0.00%</td>\n",
       "    </tr>\n",
       "    <tr>\n",
       "      <th>26</th>\n",
       "      <td>Feb 20, 2020</td>\n",
       "      <td>44.05</td>\n",
       "      <td>44.05</td>\n",
       "      <td>44.05</td>\n",
       "      <td>44.05</td>\n",
       "      <td>-</td>\n",
       "      <td>0.00%</td>\n",
       "    </tr>\n",
       "    <tr>\n",
       "      <th>27</th>\n",
       "      <td>Feb 19, 2020</td>\n",
       "      <td>44.05</td>\n",
       "      <td>44.05</td>\n",
       "      <td>44.05</td>\n",
       "      <td>44.05</td>\n",
       "      <td>-</td>\n",
       "      <td>0.00%</td>\n",
       "    </tr>\n",
       "    <tr>\n",
       "      <th>28</th>\n",
       "      <td>Feb 18, 2020</td>\n",
       "      <td>44.05</td>\n",
       "      <td>44.05</td>\n",
       "      <td>44.05</td>\n",
       "      <td>44.05</td>\n",
       "      <td>-</td>\n",
       "      <td>0.00%</td>\n",
       "    </tr>\n",
       "    <tr>\n",
       "      <th>29</th>\n",
       "      <td>Feb 17, 2020</td>\n",
       "      <td>44.05</td>\n",
       "      <td>44.05</td>\n",
       "      <td>44.05</td>\n",
       "      <td>44.05</td>\n",
       "      <td>-</td>\n",
       "      <td>29.37%</td>\n",
       "    </tr>\n",
       "  </tbody>\n",
       "</table>\n",
       "</div>"
      ],
      "text/plain": [
       "            Date  Price   Open   High    Low Vol. Change %\n",
       "0   Mar 27, 2020  34.05  34.05  34.05  34.05    -    0.00%\n",
       "1   Mar 26, 2020  34.05  34.05  34.05  34.05    -    0.00%\n",
       "2   Mar 25, 2020  34.05  34.05  34.05  34.05    -    0.00%\n",
       "3   Mar 24, 2020  34.05  34.05  34.05  34.05    -    0.00%\n",
       "4   Mar 23, 2020  34.05  34.05  34.05  34.05    -    0.00%\n",
       "5   Mar 20, 2020  34.05  34.05  34.05  34.05    -    0.00%\n",
       "6   Mar 19, 2020  34.05  34.05  34.05  34.05    -    0.00%\n",
       "7   Mar 18, 2020  34.05  34.05  34.05  34.05    -    0.00%\n",
       "8   Mar 17, 2020  34.05  34.05  34.05  34.05    -    0.00%\n",
       "9   Mar 16, 2020  34.05  34.05  34.05  34.05    -   -5.55%\n",
       "10  Mar 13, 2020  36.05  36.05  36.05  36.05    -    0.00%\n",
       "11  Mar 12, 2020  36.05  36.05  36.05  36.05    -    0.00%\n",
       "12  Mar 11, 2020  36.05  36.05  36.05  36.05    -   -2.70%\n",
       "13  Mar 10, 2020  37.05  37.05  37.05  37.05    -    0.00%\n",
       "14  Mar 09, 2020  37.05  37.05  37.05  37.05    -  -10.83%\n",
       "15  Mar 06, 2020  41.55  41.55  41.55  41.55    -   -5.68%\n",
       "16  Mar 05, 2020  44.05  44.05  44.05  44.05    -   -2.22%\n",
       "17  Mar 04, 2020  45.05  45.05  45.05  45.05    -    0.00%\n",
       "18  Mar 03, 2020  45.05  45.05  45.05  45.05    -    0.00%\n",
       "19  Mar 02, 2020  45.05  45.05  45.05  45.05    -    0.00%\n",
       "20  Feb 28, 2020  45.05  45.05  45.05  45.05    -    0.00%\n",
       "21  Feb 27, 2020  45.05  45.05  45.05  45.05    -    0.00%\n",
       "22  Feb 26, 2020  45.05  45.05  45.05  45.05    -    2.27%\n",
       "23  Feb 25, 2020  44.05  44.05  44.05  44.05    -    0.00%\n",
       "24  Feb 24, 2020  44.05  44.05  44.05  44.05    -    0.00%\n",
       "25  Feb 21, 2020  44.05  44.05  44.05  44.05    -    0.00%\n",
       "26  Feb 20, 2020  44.05  44.05  44.05  44.05    -    0.00%\n",
       "27  Feb 19, 2020  44.05  44.05  44.05  44.05    -    0.00%\n",
       "28  Feb 18, 2020  44.05  44.05  44.05  44.05    -    0.00%\n",
       "29  Feb 17, 2020  44.05  44.05  44.05  44.05    -   29.37%"
      ]
     },
     "execution_count": 30,
     "metadata": {},
     "output_type": "execute_result"
    }
   ],
   "source": [
    "carbon"
   ]
  },
  {
   "cell_type": "markdown",
   "id": "c16bfa84",
   "metadata": {},
   "source": [
    "## Last Price of the day"
   ]
  },
  {
   "cell_type": "code",
   "execution_count": 31,
   "id": "6adf4d7d",
   "metadata": {},
   "outputs": [],
   "source": [
    "last_price_day_gas = gas[\"Último\"]\n",
    "last_price_day_petroleo_brent = petroleo_brent[\"Último\"]\n",
    "last_price_day_petroleo_wti = petroleo_wti[\"Último\"]\n",
    "last_price_day_carbon = carbon[\"Price\"]"
   ]
  },
  {
   "cell_type": "markdown",
   "id": "6fb07eff",
   "metadata": {},
   "source": [
    "## Rendimientos (compund returns)"
   ]
  },
  {
   "cell_type": "code",
   "execution_count": 18,
   "id": "9409b7a3",
   "metadata": {},
   "outputs": [],
   "source": [
    "def compondReturn(dataFrame):\n",
    "    array = np.empty(dataFrame.size)\n",
    "    for i in dataFrame.index:\n",
    "        array[i] = 100 * np.log10(dataFrame[i+1] / dataFrame[i])\n",
    "        # remove outsiders\n",
    "        if np.absolute(array[i]) > 10:\n",
    "            array[i] = 0\n",
    "        if (i + 1) == last_price_day_gas.index[-1]:\n",
    "            break\n",
    "    # Remove last value, outside\n",
    "    array[-1] = 0\n",
    "    return array"
   ]
  },
  {
   "cell_type": "code",
   "execution_count": 19,
   "id": "cb3b9223",
   "metadata": {},
   "outputs": [
    {
     "data": {
      "image/png": "[encoded data removed]",
      "text/plain": [
       "<Figure size 648x648 with 1 Axes>"
      ]
     },
     "metadata": {
      "needs_background": "light"
     },
     "output_type": "display_data"
    }
   ],
   "source": [
    "gas_return = compondReturn(last_price_day_gas)\n",
    "plotUtils.plotFunction(gas_return, \"Compond Return Gas\", \"Time\", \"100 * log10(P(t+1)/P(t))\")"
   ]
  },
  {
   "cell_type": "code",
   "execution_count": 23,
   "id": "026ab2a4",
   "metadata": {},
   "outputs": [
    {
     "data": {
      "image/png": "[encoded data removed]",
      "text/plain": [
       "<Figure size 648x648 with 1 Axes>"
      ]
     },
     "metadata": {
      "needs_background": "light"
     },
     "output_type": "display_data"
    }
   ],
   "source": [
    "petroleo_brent_return = compondReturn(last_price_day_petroleo_brent)\n",
    "petroleo_brent_return [-1] =0\n",
    "plotUtils.plotFunction(petroleo_brent_return, \"Compond Return Petroleo Brent\", \"Time\", \"100 * log10(P(t+1)/P(t))\")"
   ]
  },
  {
   "cell_type": "code",
   "execution_count": 24,
   "id": "617ab758",
   "metadata": {},
   "outputs": [
    {
     "name": "stderr",
     "output_type": "stream",
     "text": [
      "/var/folders/pr/mdnfvb3x5l3cn_qcjv5rxzqr0000gn/T/ipykernel_5392/3868305830.py:4: RuntimeWarning: invalid value encountered in log10\n",
      "  array[i] = 100 * np.log10(dataFrame[i+1] / dataFrame[i])\n"
     ]
    },
    {
     "data": {
      "image/png": "[encoded data removed]",
      "text/plain": [
       "<Figure size 648x648 with 1 Axes>"
      ]
     },
     "metadata": {
      "needs_background": "light"
     },
     "output_type": "display_data"
    }
   ],
   "source": [
    "petroleo_wti_return = compondReturn(last_price_day_petroleo_wti)\n",
    "plotUtils.plotFunction(petroleo_brent_return, \"Compond Return Petroleo Brent\", \"Time\", \"100 * log10(P(t+1)/P(t))\")"
   ]
  },
  {
   "cell_type": "code",
   "execution_count": 32,
   "id": "6eb32091",
   "metadata": {},
   "outputs": [
    {
     "ename": "KeyError",
     "evalue": "30",
     "output_type": "error",
     "traceback": [
      "\u001b[0;31m---------------------------------------------------------------------------\u001b[0m",
      "\u001b[0;31mValueError\u001b[0m                                Traceback (most recent call last)",
      "File \u001b[0;32m~/Workdir/tfg/python-virtual-environments/env/lib/python3.8/site-packages/pandas/core/indexes/range.py:385\u001b[0m, in \u001b[0;36mRangeIndex.get_loc\u001b[0;34m(self, key, method, tolerance)\u001b[0m\n\u001b[1;32m    <a href='file:///Users/cesarredondourdiales/Workdir/tfg/python-virtual-environments/env/lib/python3.8/site-packages/pandas/core/indexes/range.py?line=383'>384</a>\u001b[0m \u001b[39mtry\u001b[39;00m:\n\u001b[0;32m--> <a href='file:///Users/cesarredondourdiales/Workdir/tfg/python-virtual-environments/env/lib/python3.8/site-packages/pandas/core/indexes/range.py?line=384'>385</a>\u001b[0m     \u001b[39mreturn\u001b[39;00m \u001b[39mself\u001b[39;49m\u001b[39m.\u001b[39;49m_range\u001b[39m.\u001b[39;49mindex(new_key)\n\u001b[1;32m    <a href='file:///Users/cesarredondourdiales/Workdir/tfg/python-virtual-environments/env/lib/python3.8/site-packages/pandas/core/indexes/range.py?line=385'>386</a>\u001b[0m \u001b[39mexcept\u001b[39;00m \u001b[39mValueError\u001b[39;00m \u001b[39mas\u001b[39;00m err:\n",
      "\u001b[0;31mValueError\u001b[0m: 30 is not in range",
      "\nThe above exception was the direct cause of the following exception:\n",
      "\u001b[0;31mKeyError\u001b[0m                                  Traceback (most recent call last)",
      "\u001b[1;32m/Users/cesarredondourdiales/Workdir/tfg/python-virtual-environments/EstadisticaDescriptiva.ipynb Cell 16'\u001b[0m in \u001b[0;36m<cell line: 1>\u001b[0;34m()\u001b[0m\n\u001b[0;32m----> <a href='vscode-notebook-cell:/Users/cesarredondourdiales/Workdir/tfg/python-virtual-environments/EstadisticaDescriptiva.ipynb#ch0000086?line=0'>1</a>\u001b[0m carbon_return \u001b[39m=\u001b[39m compondReturn(last_price_day_carbon)\n\u001b[1;32m      <a href='vscode-notebook-cell:/Users/cesarredondourdiales/Workdir/tfg/python-virtual-environments/EstadisticaDescriptiva.ipynb#ch0000086?line=1'>2</a>\u001b[0m plotUtils\u001b[39m.\u001b[39mplotFunction(petroleo_brent_return, \u001b[39m\"\u001b[39m\u001b[39mCompond Return Petroleo Brent\u001b[39m\u001b[39m\"\u001b[39m, \u001b[39m\"\u001b[39m\u001b[39mTime\u001b[39m\u001b[39m\"\u001b[39m, \u001b[39m\"\u001b[39m\u001b[39m100 * log10(P(t+1)/P(t))\u001b[39m\u001b[39m\"\u001b[39m)\n",
      "\u001b[1;32m/Users/cesarredondourdiales/Workdir/tfg/python-virtual-environments/EstadisticaDescriptiva.ipynb Cell 12'\u001b[0m in \u001b[0;36mcompondReturn\u001b[0;34m(dataFrame)\u001b[0m\n\u001b[1;32m      <a href='vscode-notebook-cell:/Users/cesarredondourdiales/Workdir/tfg/python-virtual-environments/EstadisticaDescriptiva.ipynb#ch0000027?line=1'>2</a>\u001b[0m array \u001b[39m=\u001b[39m np\u001b[39m.\u001b[39mempty(dataFrame\u001b[39m.\u001b[39msize)\n\u001b[1;32m      <a href='vscode-notebook-cell:/Users/cesarredondourdiales/Workdir/tfg/python-virtual-environments/EstadisticaDescriptiva.ipynb#ch0000027?line=2'>3</a>\u001b[0m \u001b[39mfor\u001b[39;00m i \u001b[39min\u001b[39;00m dataFrame\u001b[39m.\u001b[39mindex:\n\u001b[0;32m----> <a href='vscode-notebook-cell:/Users/cesarredondourdiales/Workdir/tfg/python-virtual-environments/EstadisticaDescriptiva.ipynb#ch0000027?line=3'>4</a>\u001b[0m     array[i] \u001b[39m=\u001b[39m \u001b[39m100\u001b[39m \u001b[39m*\u001b[39m np\u001b[39m.\u001b[39mlog10(dataFrame[i\u001b[39m+\u001b[39;49m\u001b[39m1\u001b[39;49m] \u001b[39m/\u001b[39m dataFrame[i])\n\u001b[1;32m      <a href='vscode-notebook-cell:/Users/cesarredondourdiales/Workdir/tfg/python-virtual-environments/EstadisticaDescriptiva.ipynb#ch0000027?line=4'>5</a>\u001b[0m     \u001b[39m# remove outsiders\u001b[39;00m\n\u001b[1;32m      <a href='vscode-notebook-cell:/Users/cesarredondourdiales/Workdir/tfg/python-virtual-environments/EstadisticaDescriptiva.ipynb#ch0000027?line=5'>6</a>\u001b[0m     \u001b[39mif\u001b[39;00m np\u001b[39m.\u001b[39mabsolute(array[i]) \u001b[39m>\u001b[39m \u001b[39m10\u001b[39m:\n",
      "File \u001b[0;32m~/Workdir/tfg/python-virtual-environments/env/lib/python3.8/site-packages/pandas/core/series.py:958\u001b[0m, in \u001b[0;36mSeries.__getitem__\u001b[0;34m(self, key)\u001b[0m\n\u001b[1;32m    <a href='file:///Users/cesarredondourdiales/Workdir/tfg/python-virtual-environments/env/lib/python3.8/site-packages/pandas/core/series.py?line=954'>955</a>\u001b[0m     \u001b[39mreturn\u001b[39;00m \u001b[39mself\u001b[39m\u001b[39m.\u001b[39m_values[key]\n\u001b[1;32m    <a href='file:///Users/cesarredondourdiales/Workdir/tfg/python-virtual-environments/env/lib/python3.8/site-packages/pandas/core/series.py?line=956'>957</a>\u001b[0m \u001b[39melif\u001b[39;00m key_is_scalar:\n\u001b[0;32m--> <a href='file:///Users/cesarredondourdiales/Workdir/tfg/python-virtual-environments/env/lib/python3.8/site-packages/pandas/core/series.py?line=957'>958</a>\u001b[0m     \u001b[39mreturn\u001b[39;00m \u001b[39mself\u001b[39;49m\u001b[39m.\u001b[39;49m_get_value(key)\n\u001b[1;32m    <a href='file:///Users/cesarredondourdiales/Workdir/tfg/python-virtual-environments/env/lib/python3.8/site-packages/pandas/core/series.py?line=959'>960</a>\u001b[0m \u001b[39mif\u001b[39;00m is_hashable(key):\n\u001b[1;32m    <a href='file:///Users/cesarredondourdiales/Workdir/tfg/python-virtual-environments/env/lib/python3.8/site-packages/pandas/core/series.py?line=960'>961</a>\u001b[0m     \u001b[39m# Otherwise index.get_value will raise InvalidIndexError\u001b[39;00m\n\u001b[1;32m    <a href='file:///Users/cesarredondourdiales/Workdir/tfg/python-virtual-environments/env/lib/python3.8/site-packages/pandas/core/series.py?line=961'>962</a>\u001b[0m     \u001b[39mtry\u001b[39;00m:\n\u001b[1;32m    <a href='file:///Users/cesarredondourdiales/Workdir/tfg/python-virtual-environments/env/lib/python3.8/site-packages/pandas/core/series.py?line=962'>963</a>\u001b[0m         \u001b[39m# For labels that don't resolve as scalars like tuples and frozensets\u001b[39;00m\n",
      "File \u001b[0;32m~/Workdir/tfg/python-virtual-environments/env/lib/python3.8/site-packages/pandas/core/series.py:1069\u001b[0m, in \u001b[0;36mSeries._get_value\u001b[0;34m(self, label, takeable)\u001b[0m\n\u001b[1;32m   <a href='file:///Users/cesarredondourdiales/Workdir/tfg/python-virtual-environments/env/lib/python3.8/site-packages/pandas/core/series.py?line=1065'>1066</a>\u001b[0m     \u001b[39mreturn\u001b[39;00m \u001b[39mself\u001b[39m\u001b[39m.\u001b[39m_values[label]\n\u001b[1;32m   <a href='file:///Users/cesarredondourdiales/Workdir/tfg/python-virtual-environments/env/lib/python3.8/site-packages/pandas/core/series.py?line=1067'>1068</a>\u001b[0m \u001b[39m# Similar to Index.get_value, but we do not fall back to positional\u001b[39;00m\n\u001b[0;32m-> <a href='file:///Users/cesarredondourdiales/Workdir/tfg/python-virtual-environments/env/lib/python3.8/site-packages/pandas/core/series.py?line=1068'>1069</a>\u001b[0m loc \u001b[39m=\u001b[39m \u001b[39mself\u001b[39;49m\u001b[39m.\u001b[39;49mindex\u001b[39m.\u001b[39;49mget_loc(label)\n\u001b[1;32m   <a href='file:///Users/cesarredondourdiales/Workdir/tfg/python-virtual-environments/env/lib/python3.8/site-packages/pandas/core/series.py?line=1069'>1070</a>\u001b[0m \u001b[39mreturn\u001b[39;00m \u001b[39mself\u001b[39m\u001b[39m.\u001b[39mindex\u001b[39m.\u001b[39m_get_values_for_loc(\u001b[39mself\u001b[39m, loc, label)\n",
      "File \u001b[0;32m~/Workdir/tfg/python-virtual-environments/env/lib/python3.8/site-packages/pandas/core/indexes/range.py:387\u001b[0m, in \u001b[0;36mRangeIndex.get_loc\u001b[0;34m(self, key, method, tolerance)\u001b[0m\n\u001b[1;32m    <a href='file:///Users/cesarredondourdiales/Workdir/tfg/python-virtual-environments/env/lib/python3.8/site-packages/pandas/core/indexes/range.py?line=384'>385</a>\u001b[0m         \u001b[39mreturn\u001b[39;00m \u001b[39mself\u001b[39m\u001b[39m.\u001b[39m_range\u001b[39m.\u001b[39mindex(new_key)\n\u001b[1;32m    <a href='file:///Users/cesarredondourdiales/Workdir/tfg/python-virtual-environments/env/lib/python3.8/site-packages/pandas/core/indexes/range.py?line=385'>386</a>\u001b[0m     \u001b[39mexcept\u001b[39;00m \u001b[39mValueError\u001b[39;00m \u001b[39mas\u001b[39;00m err:\n\u001b[0;32m--> <a href='file:///Users/cesarredondourdiales/Workdir/tfg/python-virtual-environments/env/lib/python3.8/site-packages/pandas/core/indexes/range.py?line=386'>387</a>\u001b[0m         \u001b[39mraise\u001b[39;00m \u001b[39mKeyError\u001b[39;00m(key) \u001b[39mfrom\u001b[39;00m \u001b[39merr\u001b[39;00m\n\u001b[1;32m    <a href='file:///Users/cesarredondourdiales/Workdir/tfg/python-virtual-environments/env/lib/python3.8/site-packages/pandas/core/indexes/range.py?line=387'>388</a>\u001b[0m \u001b[39mself\u001b[39m\u001b[39m.\u001b[39m_check_indexing_error(key)\n\u001b[1;32m    <a href='file:///Users/cesarredondourdiales/Workdir/tfg/python-virtual-environments/env/lib/python3.8/site-packages/pandas/core/indexes/range.py?line=388'>389</a>\u001b[0m \u001b[39mraise\u001b[39;00m \u001b[39mKeyError\u001b[39;00m(key)\n",
      "\u001b[0;31mKeyError\u001b[0m: 30"
     ]
    }
   ],
   "source": [
    "carbon_return = compondReturn(last_price_day_carbon)\n",
    "plotUtils.plotFunction(petroleo_brent_return, \"Compond Return Petroleo Brent\", \"Time\", \"100 * log10(P(t+1)/P(t))\")"
   ]
  },
  {
   "cell_type": "markdown",
   "id": "542b3929",
   "metadata": {},
   "source": [
    "# Descriptive Statistic"
   ]
  },
  {
   "cell_type": "markdown",
   "id": "2de0c297",
   "metadata": {},
   "source": [
    "## Frequency Distribution Histogram\n"
   ]
  },
  {
   "cell_type": "code",
   "execution_count": null,
   "id": "ce21542b",
   "metadata": {},
   "outputs": [],
   "source": [
    "def frequencyDistribution(compondReturn):\n",
    "    # Sturge's Rule\n",
    "    # bins = 1 + 3.322 * np.log10(len(compondReturn))\n",
    "    # values too littles\n",
    "    \n",
    "    fig, ax = plt.subplots(figsize=(9, 9))\n",
    "    n, bins, patches = ax.hist(compondReturn, round(50))\n",
    "    ax.set_title('Frequency Histogram', size = 19)\n",
    "    plt.show()\n",
    "\n",
    "    fig, ax = plt.subplots(nrows = 2, ncols = 1,figsize=(9, 9))\n",
    "    ax[0].plot(bins[:len(n)], n)\n",
    "    ax[1].plot(np.cumsum(n))\n",
    "    ax[0].set_title('Empirical Cumulative', size = 19)\n",
    "    ax[1].set_title('Cumulative Sum', size = 19)\n",
    "    plt.show()"
   ]
  },
  {
   "cell_type": "code",
   "execution_count": null,
   "id": "f1855a51",
   "metadata": {},
   "outputs": [
    {
     "data": {
      "image/png": "[encoded data removed]",
      "text/plain": [
       "<Figure size 648x648 with 1 Axes>"
      ]
     },
     "metadata": {
      "needs_background": "light"
     },
     "output_type": "display_data"
    },
    {
     "data": {
      "image/png": "[encoded data removed]",
      "text/plain": [
       "<Figure size 648x648 with 2 Axes>"
      ]
     },
     "metadata": {
      "needs_background": "light"
     },
     "output_type": "display_data"
    }
   ],
   "source": [
    "frequencyDistribution(gas_return)"
   ]
  },
  {
   "cell_type": "code",
   "execution_count": null,
   "id": "b5e24d10",
   "metadata": {},
   "outputs": [
    {
     "data": {
      "image/png": "[encoded data removed]",
      "text/plain": [
       "<Figure size 648x648 with 1 Axes>"
      ]
     },
     "metadata": {
      "needs_background": "light"
     },
     "output_type": "display_data"
    },
    {
     "data": {
      "image/png": "[encoded data removed]",
      "text/plain": [
       "<Figure size 648x648 with 2 Axes>"
      ]
     },
     "metadata": {
      "needs_background": "light"
     },
     "output_type": "display_data"
    }
   ],
   "source": [
    "frequencyDistribution(petroleo_wti_return)"
   ]
  },
  {
   "cell_type": "markdown",
   "id": "25ccb812",
   "metadata": {},
   "source": [
    "## Basic Numeric Descriptives\n"
   ]
  },
  {
   "cell_type": "markdown",
   "id": "33feed3d",
   "metadata": {},
   "source": [
    "### Mean\n"
   ]
  },
  {
   "cell_type": "code",
   "execution_count": null,
   "id": "3af4757f",
   "metadata": {},
   "outputs": [],
   "source": [
    "def geometricMean(compondReturn):\n",
    "    # Geometric name cannot be applied negative values\n",
    "    return sp.stats.mstats.gmean(compondReturn + 20) - 20"
   ]
  },
  {
   "cell_type": "code",
   "execution_count": null,
   "id": "5e538735",
   "metadata": {},
   "outputs": [],
   "source": [
    "def arithmeticMean(compondReturn):\n",
    "    return np.nanmean(compondReturn)"
   ]
  },
  {
   "cell_type": "code",
   "execution_count": null,
   "id": "f8e8c01b",
   "metadata": {},
   "outputs": [
    {
     "data": {
      "text/plain": [
       "-0.00037300812571952336"
      ]
     },
     "execution_count": 17,
     "metadata": {},
     "output_type": "execute_result"
    }
   ],
   "source": [
    "arithmeticMean(gas_return)"
   ]
  },
  {
   "cell_type": "code",
   "execution_count": null,
   "id": "9c0b20e8",
   "metadata": {},
   "outputs": [
    {
     "data": {
      "text/plain": [
       "-0.049767957493187964"
      ]
     },
     "execution_count": 18,
     "metadata": {},
     "output_type": "execute_result"
    }
   ],
   "source": [
    "geometricMean(gas_return)"
   ]
  },
  {
   "cell_type": "code",
   "execution_count": null,
   "id": "e4ff7f9f",
   "metadata": {},
   "outputs": [
    {
     "data": {
      "text/plain": [
       "-9.094068767620914e+274"
      ]
     },
     "execution_count": 19,
     "metadata": {},
     "output_type": "execute_result"
    }
   ],
   "source": [
    "arithmeticMean(petroleo_brent_return)"
   ]
  },
  {
   "cell_type": "markdown",
   "id": "0c16c1e1",
   "metadata": {},
   "source": [
    "### Standard Deviation"
   ]
  },
  {
   "cell_type": "code",
   "execution_count": null,
   "id": "a22f6b0f",
   "metadata": {},
   "outputs": [],
   "source": [
    "def standarDeviation(compondReturn):\n",
    "    return np.std(compondReturn)"
   ]
  },
  {
   "cell_type": "code",
   "execution_count": null,
   "id": "14cfba83",
   "metadata": {},
   "outputs": [
    {
     "data": {
      "text/plain": [
       "1.3774822885763989"
      ]
     },
     "execution_count": 21,
     "metadata": {},
     "output_type": "execute_result"
    }
   ],
   "source": [
    "standarDeviation(gas_return)"
   ]
  },
  {
   "cell_type": "code",
   "execution_count": null,
   "id": "ba9c7772",
   "metadata": {},
   "outputs": [
    {
     "name": "stderr",
     "output_type": "stream",
     "text": [
      "/Users/cesarredondourdiales/Workdir/tfg/python-virtual-environments/env/lib/python3.8/site-packages/numpy/core/_methods.py:235: RuntimeWarning: overflow encountered in multiply\n",
      "  x = um.multiply(x, x, out=x)\n"
     ]
    },
    {
     "data": {
      "text/plain": [
       "inf"
      ]
     },
     "execution_count": 22,
     "metadata": {},
     "output_type": "execute_result"
    }
   ],
   "source": [
    "standarDeviation(petroleo_brent_return)"
   ]
  },
  {
   "cell_type": "markdown",
   "id": "e9c7602a",
   "metadata": {},
   "source": [
    "### Max and min"
   ]
  },
  {
   "cell_type": "code",
   "execution_count": null,
   "id": "0d3e0c3b",
   "metadata": {},
   "outputs": [
    {
     "data": {
      "text/plain": [
       "7.840977278083475"
      ]
     },
     "execution_count": 23,
     "metadata": {},
     "output_type": "execute_result"
    }
   ],
   "source": [
    "gas_return.max()"
   ]
  },
  {
   "cell_type": "code",
   "execution_count": null,
   "id": "20c460c7",
   "metadata": {},
   "outputs": [
    {
     "data": {
      "text/plain": [
       "-11.626578822586803"
      ]
     },
     "execution_count": 24,
     "metadata": {},
     "output_type": "execute_result"
    }
   ],
   "source": [
    "gas_return.min()"
   ]
  },
  {
   "cell_type": "code",
   "execution_count": null,
   "id": "a0e2d678",
   "metadata": {},
   "outputs": [
    {
     "data": {
      "text/plain": [
       "6.835408203727528e+198"
      ]
     },
     "execution_count": 25,
     "metadata": {},
     "output_type": "execute_result"
    }
   ],
   "source": [
    "petroleo_brent_return.max()"
   ]
  },
  {
   "cell_type": "code",
   "execution_count": null,
   "id": "5cbc23ef",
   "metadata": {},
   "outputs": [
    {
     "data": {
      "text/plain": [
       "-3.392087628967606e+278"
      ]
     },
     "execution_count": 26,
     "metadata": {},
     "output_type": "execute_result"
    }
   ],
   "source": [
    "petroleo_brent_return.min()"
   ]
  },
  {
   "cell_type": "markdown",
   "id": "1822b92f",
   "metadata": {},
   "source": [
    "## Swekness"
   ]
  },
  {
   "cell_type": "markdown",
   "id": "bfcae72c",
   "metadata": {},
   "source": [
    "For normally distributed data, the skewness should be about zero. For unimodal continuous distributions, a skewness value greater than zero means that there is more weight in the right tail of the distribution. The function skewtest can be used to determine if the skewness value is close enough to zero, statistically speaking. https://docs.scipy.org/doc/scipy/reference/generated/scipy.stats.skew.html"
   ]
  },
  {
   "cell_type": "code",
   "execution_count": null,
   "id": "194f2752",
   "metadata": {},
   "outputs": [],
   "source": [
    "def skew(compondReturn):\n",
    "    return stats.skew(compondReturn)"
   ]
  },
  {
   "cell_type": "code",
   "execution_count": null,
   "id": "e513e0f4",
   "metadata": {},
   "outputs": [
    {
     "data": {
      "text/plain": [
       "-0.2940957942535622"
      ]
     },
     "execution_count": 36,
     "metadata": {},
     "output_type": "execute_result"
    }
   ],
   "source": [
    "skew(gas_return)"
   ]
  },
  {
   "cell_type": "code",
   "execution_count": null,
   "id": "bcc9ddf7",
   "metadata": {},
   "outputs": [
    {
     "data": {
      "text/plain": [
       "-0.12183913478625194"
      ]
     },
     "execution_count": 35,
     "metadata": {},
     "output_type": "execute_result"
    }
   ],
   "source": [
    "skew(petroleo_brent_return)"
   ]
  },
  {
   "cell_type": "markdown",
   "id": "ef275881",
   "metadata": {},
   "source": [
    "## Q-Q Plot"
   ]
  },
  {
   "cell_type": "code",
   "execution_count": null,
   "id": "997437e7",
   "metadata": {},
   "outputs": [],
   "source": []
  },
  {
   "cell_type": "markdown",
   "id": "161b2033",
   "metadata": {},
   "source": [
    "## Jarque-Bera Test"
   ]
  },
  {
   "cell_type": "code",
   "execution_count": null,
   "id": "630c9d6e",
   "metadata": {},
   "outputs": [],
   "source": []
  },
  {
   "cell_type": "markdown",
   "id": "4ca02f7c",
   "metadata": {},
   "source": [
    "## Box plots"
   ]
  },
  {
   "cell_type": "code",
   "execution_count": null,
   "id": "349d5270",
   "metadata": {},
   "outputs": [],
   "source": []
  }
 ],
 "metadata": {
  "interpreter": {
   "hash": "8b35eb3cf00d1c129ab45781a24e166e9c1096fc5654d100c292691ac7bb7aae"
  },
  "kernelspec": {
   "display_name": "Python 3.8.10 ('env': venv)",
   "language": "python",
   "name": "python3"
  },
  "language_info": {
   "codemirror_mode": {
    "name": "ipython",
    "version": 3
   },
   "file_extension": ".py",
   "mimetype": "text/x-python",
   "name": "python",
   "nbconvert_exporter": "python",
   "pygments_lexer": "ipython3",
   "version": "3.8.10"
  }
 },
 "nbformat": 4,
 "nbformat_minor": 5
}
